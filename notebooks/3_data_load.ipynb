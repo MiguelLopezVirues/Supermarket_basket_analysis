{
 "cells": [
  {
   "cell_type": "markdown",
   "metadata": {},
   "source": [
    "# 1. Introduction to this notebook"
   ]
  },
  {
   "cell_type": "markdown",
   "metadata": {},
   "source": [
    "The purpose of this notebook is to explain the process followed to load the scraped data during the data load phase."
   ]
  },
  {
   "cell_type": "markdown",
   "metadata": {},
   "source": []
  },
  {
   "cell_type": "markdown",
   "metadata": {},
   "source": [
    "# 2. Database design"
   ]
  },
  {
   "cell_type": "markdown",
   "metadata": {},
   "source": [
    "Tables:\n",
    "\n",
    "- products\n",
    "    - product_id PK\n",
    "    - brand_id FK\n",
    "    - subcategory_id FK\n",
    "    - product_name_norm\n",
    "    - quantity\n",
    "    - units\n",
    "    - volume_weight\n",
    "\n",
    "- categories\n",
    "    - category_id\n",
    "    - category_name\n",
    "\n",
    "- subcategories\n",
    "    - subcategory_id\n",
    "    - category_id\n",
    "    - subcategory_name\n",
    "    - distinction\n",
    "    - eco\n",
    "\n",
    "- prices \n",
    "    - price_id PK\n",
    "    - supermarket_product_id FK\n",
    "    - date\n",
    "    - price_amount\n",
    "\n",
    "- supermarkets\n",
    "    - supermarket_id PK\n",
    "    - supermarket_name\n",
    "\n",
    "\n",
    "- supermarket_product\n",
    "    - supermarket_product_id PK\n",
    "    - supermarket_id FK\n",
    "    - product_name_supermarket\n",
    "    - facua_url\n",
    "\n",
    "- brands\n",
    "    - brand_id PK\n",
    "    - brand_name "
   ]
  },
  {
   "cell_type": "markdown",
   "metadata": {},
   "source": [
    "Explain"
   ]
  },
  {
   "cell_type": "markdown",
   "metadata": {},
   "source": [
    "# 3. Creation of database and data tables"
   ]
  },
  {
   "cell_type": "code",
   "execution_count": null,
   "metadata": {},
   "outputs": [],
   "source": [
    "\"\"\"DROP TABLE IF EXISTS products, categories, subcategories, prices, supermarkets, supermarket_product, brands CASCADE;\n",
    "\n",
    "CREATE TABLE categories (\n",
    "    category_id SERIAL PRIMARY KEY,\n",
    "    category_name VARCHAR(100) NOT NULL\n",
    ");\n",
    "\n",
    "CREATE TABLE subcategories (\n",
    "    subcategory_id SERIAL PRIMARY KEY,\n",
    "    category_id INT REFERENCES categories(category_id) ON DELETE CASCADE ON UPDATE CASCADE, -- if category is changed, change here too. If deleted, subcategory no longer needed\n",
    "    subcategory_name VARCHAR(100) NOT NULL,\n",
    "    distinction VARCHAR(100),\n",
    "    eco BOOLEAN\n",
    ");\n",
    "\n",
    "CREATE TABLE brands (\n",
    "    brand_id SERIAL PRIMARY KEY,\n",
    "    brand_name VARCHAR(100) NOT NULL\n",
    ");\n",
    "\n",
    "CREATE TABLE products (\n",
    "    product_id SERIAL PRIMARY KEY,\n",
    "    brand_id INT REFERENCES brands(brand_id) ON DELETE SET NULL ON UPDATE CASCADE, -- if brand_id is changed, change here too. if deleted, remove category from product\n",
    "    subcategory_id INT REFERENCES subcategories(subcategory_id) ON DELETE SET NULL ON UPDATE CASCADE, -- if category is changed, change here too. if deleted, remove category from product\n",
    "    product_name_norm VARCHAR(200) NOT NULL,\n",
    "    quantity NUMERIC,\n",
    "    units VARCHAR(50),\n",
    "    volume_weight NUMERIC\n",
    ");\n",
    "\n",
    "CREATE TABLE supermarkets (\n",
    "    supermarket_id SERIAL PRIMARY KEY,\n",
    "    supermarket_name VARCHAR(100) NOT NULL,\n",
    "    product_name_supermarket VARCHAR(200)\n",
    ");\n",
    "\n",
    "CREATE TABLE supermarket_product (\n",
    "    supermarket_product_id SERIAL PRIMARY KEY,\n",
    "    supermarket_id INT REFERENCES supermarkets(supermarket_id) ON DELETE CASCADE ON UPDATE CASCADE, -- if supermarket is deleted, interation is no longer needed\n",
    "    product_id INT REFERENCES products(product_id) ON DELETE CASCADE ON UPDATE CASCADE, -- if product is deleted, interation is no longer needed\n",
    "    facua_url VARCHAR(255)\n",
    ");\n",
    "\n",
    "CREATE TABLE prices (\n",
    "    price_id SERIAL PRIMARY KEY,\n",
    "    supermarket_product_id INT REFERENCES supermarket_product(supermarket_product_id) ON DELETE CASCADE ON UPDATE CASCADE, -- if category is changed, change here too. If deleted, subcategory no longer needed\n",
    "    date DATE NOT NULL,\n",
    "    price_amount NUMERIC(10, 2) NOT NULL\n",
    ");\n",
    "\"\"\""
   ]
  },
  {
   "cell_type": "markdown",
   "metadata": {},
   "source": [
    "# 4. Data load"
   ]
  },
  {
   "cell_type": "markdown",
   "metadata": {},
   "source": [
    "Order of loading:\n",
    "- Brands\n",
    "- Categories\n",
    "- Subcategories \n",
    "- Supermarkets\n",
    "- Products\n",
    "- Supermarkets_products\n",
    "- Prices"
   ]
  },
  {
   "cell_type": "markdown",
   "metadata": {},
   "source": []
  },
  {
   "cell_type": "code",
   "execution_count": null,
   "metadata": {},
   "outputs": [],
   "source": []
  },
  {
   "cell_type": "markdown",
   "metadata": {},
   "source": []
  }
 ],
 "metadata": {
  "kernelspec": {
   "display_name": "my-supermercados_analisis",
   "language": "python",
   "name": "my-supermercados_analisis"
  },
  "language_info": {
   "name": "python",
   "version": "3.11.4"
  }
 },
 "nbformat": 4,
 "nbformat_minor": 2
}
