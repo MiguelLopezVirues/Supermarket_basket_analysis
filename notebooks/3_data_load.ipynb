{
 "cells": [
  {
   "cell_type": "markdown",
   "metadata": {},
   "source": [
    "# 1. Introduction to this notebook"
   ]
  },
  {
   "cell_type": "markdown",
   "metadata": {},
   "source": [
    "The purpose of this notebook is to explain the process followed to load the scraped data during the data load phase."
   ]
  },
  {
   "cell_type": "markdown",
   "metadata": {},
   "source": []
  },
  {
   "cell_type": "markdown",
   "metadata": {},
   "source": [
    "# 2. Database design"
   ]
  },
  {
   "cell_type": "markdown",
   "metadata": {},
   "source": [
    "Tables:\n",
    "\n",
    "- products\n",
    "    - product_id PK\n",
    "    <!-- - brand_id FK -->\n",
    "    - product_name\n",
    "    - quantity\n",
    "    - units\n",
    "    - volume_weight\n",
    "\n",
    "- categories\n",
    "    - category_id\n",
    "    - category_name\n",
    "\n",
    "<!-- - subcategories\n",
    "    - subcategory_id\n",
    "    - category_id\n",
    "    - subcategory_name -->\n",
    "\n",
    "- prices \n",
    "    - price_id PK\n",
    "    - product_id FK\n",
    "    - supermarket_id FK\n",
    "    - date\n",
    "    - price_amount\n",
    "\n",
    "- supermarkets\n",
    "    - supermarket_id PK\n",
    "    - supermarket_name\n",
    "\n",
    "- supermarket_product\n",
    "    - supermarket_product_id PK\n",
    "    - supermarket_id FK\n",
    "    - product_id FK\n",
    "    - facua_url\n",
    "\n",
    "<!-- - brands\n",
    "    - brand_id PK\n",
    "    - brand_name  -->"
   ]
  },
  {
   "cell_type": "markdown",
   "metadata": {},
   "source": [
    "Tables:\n",
    "\n",
    "- products\n",
    "    - product_id\n",
    "    - brand_id\n",
    "    - product_name\n",
    "    - quantity\n",
    "    - units\n",
    "    - volume_weight\n",
    "\n",
    "- prices \n",
    "    - price_id\n",
    "    - date\n",
    "    - product_id\n",
    "    - supermarket_id\n",
    "    - price_amount\n",
    "\n",
    "- supermarkets\n",
    "    - supermarket_id\n",
    "    - supermarket_name\n",
    "\n",
    "- supermarket_product\n",
    "    - supermarket_id\n",
    "    - product_id\n",
    "    - facua_url\n",
    "\n",
    "- brands\n",
    "    - brand_id\n",
    "    - brand_name"
   ]
  },
  {
   "cell_type": "markdown",
   "metadata": {},
   "source": [
    "# 3. Creation of database and data tables"
   ]
  },
  {
   "cell_type": "markdown",
   "metadata": {},
   "source": []
  }
 ],
 "metadata": {
  "language_info": {
   "name": "python"
  }
 },
 "nbformat": 4,
 "nbformat_minor": 2
}
