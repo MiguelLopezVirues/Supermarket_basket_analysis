{
 "cells": [
  {
   "cell_type": "markdown",
   "metadata": {},
   "source": [
    "### 0. Imports"
   ]
  },
  {
   "cell_type": "code",
   "execution_count": 61,
   "metadata": {},
   "outputs": [],
   "source": [
    "# data processing\n",
    "import pandas as pd\n",
    "import numpy as np\n",
    "\n",
    "# regular expressions\n",
    "import re\n",
    "\n",
    "# function typing\n",
    "from typing import Tuple, Union\n",
    "\n",
    "# standardization of strings\n",
    "from unidecode import unidecode\n",
    "\n",
    "# append parent folder to path for easier src imports\n",
    "import sys\n",
    "sys.path.append(\"..\")\n",
    "\n",
    "# import data extraction support function\n",
    "from src.support.data_extraction_support_draft import extract_table_from_link, extract_productnames_links, extract_categorynames_links, extract_supermarkets\n",
    "\n",
    "# import data transformation support functions\n",
    "from src.support.data_transformation_support import extract_quantity_from_product_name, sanitize_filename"
   ]
  },
  {
   "cell_type": "markdown",
   "metadata": {},
   "source": [
    "# 1. Introduction to this notebook"
   ]
  },
  {
   "cell_type": "markdown",
   "metadata": {},
   "source": [
    "The purpose of this notebook is to explain the decision making in the different cleaning procedures applied to the data scraped during the extraction phase."
   ]
  },
  {
   "cell_type": "markdown",
   "metadata": {},
   "source": [
    "# 2. Data transformation"
   ]
  },
  {
   "cell_type": "markdown",
   "metadata": {},
   "source": [
    "The scraping of historical data poses no major problem, as the only transformations to be made for the data to be ready for use are:\n",
    "- The replacement of a comma by the correct floating point character.\n",
    "- Transformation to datetime and float data types.\n",
    "- Cleaning of characters incompatible with filepath writing\n",
    "\n",
    "However, the available html fields for extraction do not explicitly provide other information about the products, such as:\n",
    "- Quantity\n",
    "- Unit of measure\n",
    "- Volume/weight\n",
    "- Brand\n",
    "- Packaging\n",
    "- Subcategory of product (Milk for babies, extra quality olive oil, protein milk, with or without lactose)\n",
    "\n",
    "This information is extremely valuable for the analysis, especially the quantities, units of measure and volume/weight, as they can multiply differences in prices inadvertedly. As said, this data is not available through picky extraction of the relevant fields but from the product name itself. Thus, a processing of the extracted product name is necessary to obtain these valuable fields for the database.\n",
    "\n",
    "An extraction of a base dataframe has been made to enable the exploration necessary for the cleaning process."
   ]
  },
  {
   "cell_type": "markdown",
   "metadata": {},
   "source": [
    "## 2.1 Extract quantity, unit of measure and volume/weight"
   ]
  },
  {
   "cell_type": "markdown",
   "metadata": {},
   "source": [
    "The structures in product names accross brands, supermarkets and products is erratic. The approach to extract quantity, unit of measure and volume or weight is therefore through complex regular expression patterns.\n",
    "\n",
    "Replicating the main extraction function up to the moment, to extract the product names and categories:"
   ]
  },
  {
   "cell_type": "code",
   "execution_count": 36,
   "metadata": {},
   "outputs": [],
   "source": [
    "names_list = list()\n",
    "category_list = list()\n",
    "supermarket_list = list()\n",
    "\n",
    "supermarket_links = extract_supermarkets(\"https://super.facua.org/\")\n",
    "\n",
    "# product categories and supermarkets information are found inside the url\n",
    "for supermarket_link in supermarket_links:\n",
    "\n",
    "    category_links = extract_categorynames_links(supermarket_link)\n",
    "\n",
    "    for category_link in category_links:\n",
    "\n",
    "        product_names, product_links = extract_productnames_links(category_link)\n",
    "\n",
    "        names_list.extend(product_names)\n",
    "        supermarket_names = [product_link.split(\"/\")[3].replace(\"-\",\"_\") for product_link in product_links]\n",
    "        supermarket_list.extend(supermarket_names)\n",
    "        category_names = [product_link.split(\"/\")[4].replace(\"-\",\"_\") for product_link in product_links]\n",
    "        category_list.extend(category_names)\n"
   ]
  },
  {
   "cell_type": "markdown",
   "metadata": {},
   "source": [
    "Let's use this dataframe to test the solutions, because as said above, the information wanted about quantity, units, etc, is contained in the name of the product."
   ]
  },
  {
   "cell_type": "code",
   "execution_count": 37,
   "metadata": {},
   "outputs": [
    {
     "data": {
      "text/html": [
       "<div>\n",
       "<style scoped>\n",
       "    .dataframe tbody tr th:only-of-type {\n",
       "        vertical-align: middle;\n",
       "    }\n",
       "\n",
       "    .dataframe tbody tr th {\n",
       "        vertical-align: top;\n",
       "    }\n",
       "\n",
       "    .dataframe thead th {\n",
       "        text-align: right;\n",
       "    }\n",
       "</style>\n",
       "<table border=\"1\" class=\"dataframe\">\n",
       "  <thead>\n",
       "    <tr style=\"text-align: right;\">\n",
       "      <th></th>\n",
       "      <th>product_name</th>\n",
       "      <th>category</th>\n",
       "      <th>supermarket</th>\n",
       "    </tr>\n",
       "  </thead>\n",
       "  <tbody>\n",
       "    <tr>\n",
       "      <th>0</th>\n",
       "      <td>Aceite De Girasol Refinado 0,2º Hacendado 1 L.</td>\n",
       "      <td>aceite_de_girasol</td>\n",
       "      <td>mercadona</td>\n",
       "    </tr>\n",
       "    <tr>\n",
       "      <th>1</th>\n",
       "      <td>Aceite De Girasol Refinado 0,2º Hacendado 5 L.</td>\n",
       "      <td>aceite_de_girasol</td>\n",
       "      <td>mercadona</td>\n",
       "    </tr>\n",
       "    <tr>\n",
       "      <th>2</th>\n",
       "      <td>Aceite De Oliva 0,4º Hacendado 1 L.</td>\n",
       "      <td>aceite_de_oliva</td>\n",
       "      <td>mercadona</td>\n",
       "    </tr>\n",
       "    <tr>\n",
       "      <th>3</th>\n",
       "      <td>Aceite De Oliva 1º Hacendado 1 L.</td>\n",
       "      <td>aceite_de_oliva</td>\n",
       "      <td>mercadona</td>\n",
       "    </tr>\n",
       "    <tr>\n",
       "      <th>4</th>\n",
       "      <td>Aceite De Oliva Intenso Hacendado 3 L.</td>\n",
       "      <td>aceite_de_oliva</td>\n",
       "      <td>mercadona</td>\n",
       "    </tr>\n",
       "  </tbody>\n",
       "</table>\n",
       "</div>"
      ],
      "text/plain": [
       "                                     product_name           category  \\\n",
       "0  Aceite De Girasol Refinado 0,2º Hacendado 1 L.  aceite_de_girasol   \n",
       "1  Aceite De Girasol Refinado 0,2º Hacendado 5 L.  aceite_de_girasol   \n",
       "2             Aceite De Oliva 0,4º Hacendado 1 L.    aceite_de_oliva   \n",
       "3               Aceite De Oliva 1º Hacendado 1 L.    aceite_de_oliva   \n",
       "4          Aceite De Oliva Intenso Hacendado 3 L.    aceite_de_oliva   \n",
       "\n",
       "  supermarket  \n",
       "0   mercadona  \n",
       "1   mercadona  \n",
       "2   mercadona  \n",
       "3   mercadona  \n",
       "4   mercadona  "
      ]
     },
     "execution_count": 37,
     "metadata": {},
     "output_type": "execute_result"
    }
   ],
   "source": [
    "products = pd.DataFrame(zip(names_list,category_list, supermarket_list), columns=[\"product_name\",\"category\",\"supermarket\"])\n",
    "products.head()"
   ]
  },
  {
   "cell_type": "markdown",
   "metadata": {},
   "source": [
    "Let's remove accents and inconsistent characters, as would be done during processing:"
   ]
  },
  {
   "cell_type": "code",
   "execution_count": 38,
   "metadata": {},
   "outputs": [],
   "source": [
    "products[\"product_name2\"] = products[\"product_name\"].apply(lambda x: sanitize_filename(x))"
   ]
  },
  {
   "cell_type": "markdown",
   "metadata": {},
   "source": [
    "### 2.1.1 Visual exploration of different strings"
   ]
  },
  {
   "cell_type": "markdown",
   "metadata": {},
   "source": [
    "Visual inspection of all the possible patterns for quantity, volume/weight and units:"
   ]
  },
  {
   "cell_type": "code",
   "execution_count": 39,
   "metadata": {},
   "outputs": [],
   "source": [
    "# # IF YOU WANT TO HAVE THIS OUTPUT DISPLAYED: UNCOMMENT THIS CELL\n",
    "\n",
    "# for name in products[\"product_name2\"]:\n",
    "#     print(name)"
   ]
  },
  {
   "cell_type": "markdown",
   "metadata": {},
   "source": [
    "### 2.1.2 General exploration"
   ]
  },
  {
   "cell_type": "markdown",
   "metadata": {},
   "source": [
    "Let's gather examples from the visual exploration to start testing the regular expressions:"
   ]
  },
  {
   "cell_type": "code",
   "execution_count": 40,
   "metadata": {},
   "outputs": [],
   "source": [
    "cadena = \"\"\"'6 l', '1 l', '1.5 l', '9 l', '1.2 l', '250ml', '450 g', '210 g',\n",
    "       '387 g', '370 g', '740 g', '400 ml', '500 ml', '800 g', '1200 g',\n",
    "       '200 ml', '1,5l', '9 x 1l', '6 x 200 ml', '750 ml', '525 g',\n",
    "       '10 x 7,5 g', '2 x 210 g', '2 x 160 g', '265 ml', '4 x 120 g',\n",
    "       '6 x 100 g', '14 x 100 g', '270 ml', '2,2 l', '50 cl', '400 g',\n",
    "       '6x200 ml', '3x210 g', '10x7,5 g', '6x188ml', '3x200 ml',\n",
    "       '6 x 1 l', '2.2 l', '6 x 1.5 l', '6 x 2.2 l', '3 x 200 ml',\n",
    "       '6 x 188 ml', '600 g', '1,5 ml', '500 g', '188 ml', '20cl.',\n",
    "       '2 l', '6x1 l', '6x 1 l', '6 x 1l', '4 x 1.5 l', '6 x 500 ml',\n",
    "       '1.5l', '1l', '6x 1l'\"\"\""
   ]
  },
  {
   "cell_type": "markdown",
   "metadata": {},
   "source": [
    "Pattern to get quantity, volume/weight and units altogether:"
   ]
  },
  {
   "cell_type": "code",
   "execution_count": 41,
   "metadata": {},
   "outputs": [
    {
     "data": {
      "text/plain": [
       "['6 l',\n",
       " '1 l',\n",
       " '1.5 l',\n",
       " '9 l',\n",
       " '1.2 l',\n",
       " '250ml',\n",
       " '400 ml',\n",
       " '500 ml',\n",
       " '200 ml',\n",
       " '1,5l']"
      ]
     },
     "execution_count": 41,
     "metadata": {},
     "output_type": "execute_result"
    }
   ],
   "source": [
    "re.findall(r\"(\\d+(?:[.,]\\d+)?\\s?(?:l|litros?|ml|mililitros?))\", cadena.lower())[:10]"
   ]
  },
  {
   "cell_type": "markdown",
   "metadata": {},
   "source": [
    "Pattern to get the units of measure from the previous quantity_volume/weight_units extraction:"
   ]
  },
  {
   "cell_type": "code",
   "execution_count": 42,
   "metadata": {},
   "outputs": [
    {
     "data": {
      "text/plain": [
       "['g']"
      ]
     },
     "execution_count": 42,
     "metadata": {},
     "output_type": "execute_result"
    }
   ],
   "source": [
    "re.findall(r\"\\d\\s?(\\w{1,2})$\", \"6x 1 g\")"
   ]
  },
  {
   "cell_type": "markdown",
   "metadata": {},
   "source": [
    "Pattern to extract the volume/weight from the previous quantity_volume/weight_units extraction:"
   ]
  },
  {
   "cell_type": "code",
   "execution_count": 43,
   "metadata": {},
   "outputs": [
    {
     "data": {
      "text/plain": [
       "['6', '1', '1.5', '9', '1.2', '250', '450', '210', '387', '370']"
      ]
     },
     "execution_count": 43,
     "metadata": {},
     "output_type": "execute_result"
    }
   ],
   "source": [
    "re.findall(r\"(?:\\d\\s?x\\s?)?(\\d?\\.?\\d+)\\s?\\w{1,2}?\", cadena.replace(\",\",\".\"))[0:10]"
   ]
  },
  {
   "cell_type": "code",
   "execution_count": 44,
   "metadata": {},
   "outputs": [
    {
     "data": {
      "text/plain": [
       "['20', '2', '1', '1', '1', '1.5', '500', '1.5', '1', '1']"
      ]
     },
     "execution_count": 44,
     "metadata": {},
     "output_type": "execute_result"
    }
   ],
   "source": [
    "re.findall(r\"(?:\\d\\s?x\\s?)?(\\d?\\.?\\d+)\\s?\\w{1,2}?\", cadena.replace(\",\",\".\"))[-10:]"
   ]
  },
  {
   "cell_type": "markdown",
   "metadata": {},
   "source": [
    "Pattern to extract the quantity from the previous quantity_volume/weight_units extraction:"
   ]
  },
  {
   "cell_type": "code",
   "execution_count": 45,
   "metadata": {},
   "outputs": [
    {
     "data": {
      "text/plain": [
       "['9',\n",
       " '6',\n",
       " '10',\n",
       " '2',\n",
       " '2',\n",
       " '4',\n",
       " '6',\n",
       " '14',\n",
       " '6',\n",
       " '3',\n",
       " '10',\n",
       " '6',\n",
       " '3',\n",
       " '6',\n",
       " '6',\n",
       " '6',\n",
       " '3',\n",
       " '6',\n",
       " '6',\n",
       " '6',\n",
       " '6',\n",
       " '4',\n",
       " '6',\n",
       " '6']"
      ]
     },
     "execution_count": 45,
     "metadata": {},
     "output_type": "execute_result"
    }
   ],
   "source": [
    "re.findall(r\"(\\d+)\\s?x\", cadena)"
   ]
  },
  {
   "cell_type": "markdown",
   "metadata": {},
   "source": [
    "## 2.2 Extract liters and quantities"
   ]
  },
  {
   "cell_type": "markdown",
   "metadata": {},
   "source": [
    "### 2.2.1 Extract liters and quantities from 'leche'"
   ]
  },
  {
   "cell_type": "markdown",
   "metadata": {},
   "source": [
    "Now, let's try it out in the whole names list.\n",
    "\n",
    "First, replace some common phrases to its common translation, to make regex extraction easier."
   ]
  },
  {
   "cell_type": "code",
   "execution_count": 46,
   "metadata": {},
   "outputs": [
    {
     "data": {
      "text/plain": [
       "13    leche +proteínas desnatada hacendado 6 l.\n",
       "14        leche desnatada calcio hacendado 6 l.\n",
       "15               leche desnatada hacendado 1 l.\n",
       "16             leche desnatada hacendado 1.5 l.\n",
       "17               leche desnatada hacendado 6 l.\n",
       "Name: product_name, dtype: object"
      ]
     },
     "execution_count": 46,
     "metadata": {},
     "output_type": "execute_result"
    }
   ],
   "source": [
    "names = (products.loc[products[\"category\"] == \"leche\",\"product_name\"].str.lower().str.replace(\" unidades de \", \" x \")\n",
    "            .str.replace(\" uds. x \", \" x \").str.replace(\" uds. \", \" x \").str.replace(\" briks de \", \" x \"))\n",
    "names.head()"
   ]
  },
  {
   "cell_type": "markdown",
   "metadata": {},
   "source": [
    "The unique results from the extraction are:"
   ]
  },
  {
   "cell_type": "code",
   "execution_count": 47,
   "metadata": {},
   "outputs": [
    {
     "data": {
      "text/plain": [
       "array(['6 l', '1 l', '1.5 l', '9 l', '1.2 l', '250 ml', '450 g', '210 g',\n",
       "       '387 g', '370 g', '740 g', '400 ml', '500 ml', '800 gr', '800 g',\n",
       "       '1200 g', '200 ml', '1,5 l', '9 x 1 ', '1 kg', '6 x 200 ',\n",
       "       '750 ml', '525 g', '10 x 7,5 ', '2 x 210 ', '2 x 160 ', '265 ml',\n",
       "       '4 x 120 ', '6 x 100 ', '14 x 100 ', '270 ml', '1 litro',\n",
       "       '1,5 litros', '2,2 litros', '50 cl', '400 g', '6x200 ', '3x210 ',\n",
       "       '10x7,5 ', '6x188 ', '3x200 ', '6 x 1 ', '2.2 l', '6 x 1.5 ',\n",
       "       '6 x 2.2 ', '3 x 200 ', '6 x 188 ', '2,2 l', '600 g', '1,5 ml',\n",
       "       '500 g', '188 ml', '200 cl', '2 l', '6x1 ', '6x 1 ', '6 x 1',\n",
       "       '4 x 1.5 ', '6 x 500 ', '1.5l', '1l', '6x 1', '1 x6 '],\n",
       "      dtype=object)"
      ]
     },
     "execution_count": 47,
     "metadata": {},
     "output_type": "execute_result"
    }
   ],
   "source": [
    "names = names.str.extract(r\"(\\d+(?:[.,]\\d+)?\\s?(?:litros?|mililitros?|cl|ml|l|kg|gr|g|cl)|\\d+\\s?(?:uds\\.?|botes|x)\\s?\\d+(?:[.,]\\d+)?\\s?(?:|cl|ml|l|g|gr|g))\")\n",
    "names.iloc[:,0].unique()"
   ]
  },
  {
   "cell_type": "markdown",
   "metadata": {},
   "source": [
    "Which succesfully captures quantity, volume/weight and units from all examples. It should be further checked later on that these extractions are not also errenous, appart from successful."
   ]
  },
  {
   "cell_type": "code",
   "execution_count": 48,
   "metadata": {},
   "outputs": [
    {
     "data": {
      "text/plain": [
       "0    0.0\n",
       "dtype: float64"
      ]
     },
     "execution_count": 48,
     "metadata": {},
     "output_type": "execute_result"
    }
   ],
   "source": [
    "names.isna().sum() / names.shape[0]"
   ]
  },
  {
   "cell_type": "markdown",
   "metadata": {},
   "source": [
    "### 2.2.2 Extract liters and quantities from 'aceite_de_girasol'"
   ]
  },
  {
   "cell_type": "markdown",
   "metadata": {},
   "source": [
    "Getting the names of products from the 'aceite_de_girasol' category."
   ]
  },
  {
   "cell_type": "code",
   "execution_count": 49,
   "metadata": {},
   "outputs": [
    {
     "data": {
      "text/plain": [
       "0     aceite de girasol refinado 0,2º hacendado 1 l.\n",
       "1     aceite de girasol refinado 0,2º hacendado 5 l.\n",
       "41            aceite de girasol capicua garrafa 5 l.\n",
       "42         aceite de girasol carrefour classic' 1 l.\n",
       "43          aceite de girasol carrefour garrafa 5 l.\n",
       "Name: product_name, dtype: object"
      ]
     },
     "execution_count": 49,
     "metadata": {},
     "output_type": "execute_result"
    }
   ],
   "source": [
    "names = products.loc[products[\"category\"] == \"aceite_de_girasol\",\"product_name\"].str.lower()\n",
    "names.head()"
   ]
  },
  {
   "cell_type": "markdown",
   "metadata": {},
   "source": [
    "Testing the function, with care that in the regex function, the \"easiest\" checks like single \"l\" go at the end."
   ]
  },
  {
   "cell_type": "code",
   "execution_count": 50,
   "metadata": {},
   "outputs": [
    {
     "data": {
      "text/plain": [
       "array(['1 l', '5 l', '3 l', '150 ml', '50 ml', '1 litro', '5 litros',\n",
       "       '3 litros', '200 ml'], dtype=object)"
      ]
     },
     "execution_count": 50,
     "metadata": {},
     "output_type": "execute_result"
    }
   ],
   "source": [
    "names = names.str.extract(r\"(\\d+(?:[.,]\\d+)?\\s?(?:litros?|mililitros?|ml|cl|l))\")\n",
    "names.iloc[:,0].unique()"
   ]
  },
  {
   "cell_type": "markdown",
   "metadata": {},
   "source": [
    "No records stay without coincidence."
   ]
  },
  {
   "cell_type": "code",
   "execution_count": 51,
   "metadata": {},
   "outputs": [
    {
     "data": {
      "text/plain": [
       "0    0.0\n",
       "dtype: float64"
      ]
     },
     "execution_count": 51,
     "metadata": {},
     "output_type": "execute_result"
    }
   ],
   "source": [
    "names.isna().sum() / names.shape[0]"
   ]
  },
  {
   "cell_type": "markdown",
   "metadata": {},
   "source": [
    "### 2.2.3 Extract liters and quantities from 'aceite_de_oliva'"
   ]
  },
  {
   "cell_type": "markdown",
   "metadata": {},
   "source": [
    "Getting the names of products from the 'aceite_De_girasol' category."
   ]
  },
  {
   "cell_type": "code",
   "execution_count": 52,
   "metadata": {},
   "outputs": [
    {
     "data": {
      "text/plain": [
       "2                     aceite de oliva 0,4º hacendado 1 l.\n",
       "3                       aceite de oliva 1º hacendado 1 l.\n",
       "4                  aceite de oliva intenso hacendado 3 l.\n",
       "5                    aceite de oliva suave hacendado 3 l.\n",
       "6           aceite de oliva virgen extra hacendado 0.2 l.\n",
       "                              ...                        \n",
       "1420    ybarra aceite de oliva virgen extra  botella d...\n",
       "1421    ybarra aceite de oliva virgen extra botella 50...\n",
       "1422    ybarra aceite de oliva virgen extra botella de...\n",
       "1423    ybarra aceite de oliva virgen extra botella de...\n",
       "1424      ybarra aceite de oliva virgen extra garrafa 5 l\n",
       "Name: product_name, Length: 697, dtype: object"
      ]
     },
     "execution_count": 52,
     "metadata": {},
     "output_type": "execute_result"
    }
   ],
   "source": [
    "names = products.loc[products[\"category\"] == \"aceite_de_oliva\",\"product_name\"].str.lower()\n",
    "names"
   ]
  },
  {
   "cell_type": "markdown",
   "metadata": {},
   "source": [
    "Again, testing the function, with care that in the regex function, the \"easiest\" checks like single \"l\" go at the end."
   ]
  },
  {
   "cell_type": "code",
   "execution_count": 53,
   "metadata": {},
   "outputs": [
    {
     "data": {
      "text/plain": [
       "array(['1 l', '3 l', '0.2 l', '0.75 l', '0.5 l', '5 l', '750 ml',\n",
       "       '250 ml', '500 ml', '10 ml', '200 ml', '2,5 l', '50 cl', nan,\n",
       "       '75 cl', '300 ml', '400 ml', '25 cl', '150 ml', '1 litro',\n",
       "       '3 litros', '5 litros', '20 cl', '20 ml', '20cl', '2 l', '280 ml',\n",
       "       '100 ml', '4 l', '1l'], dtype=object)"
      ]
     },
     "execution_count": 53,
     "metadata": {},
     "output_type": "execute_result"
    }
   ],
   "source": [
    "names = names.str.extract(r\"(\\d+(?:[.,]\\d+)?\\s?(?:litros?|mililitros?|ml|cl|l))\")\n",
    "names.iloc[:,0].unique()"
   ]
  },
  {
   "cell_type": "markdown",
   "metadata": {},
   "source": [
    "This time, there are a 5% of non-coincidences. But it is acceptable, as the most erratic quantity names also belong to products that do not really belong to the category, such as tuna in olive oil, avocado extra virgin oil, and so on, and this serves as a filter for them."
   ]
  },
  {
   "cell_type": "code",
   "execution_count": 54,
   "metadata": {},
   "outputs": [
    {
     "data": {
      "text/plain": [
       "0    0.05165\n",
       "dtype: float64"
      ]
     },
     "execution_count": 54,
     "metadata": {},
     "output_type": "execute_result"
    }
   ],
   "source": [
    "names.isna().sum() / names.shape[0]"
   ]
  },
  {
   "cell_type": "markdown",
   "metadata": {},
   "source": [
    "### 2.2.4 Final quantity, volume/weight and units extraction function"
   ]
  },
  {
   "cell_type": "markdown",
   "metadata": {},
   "source": [
    "This function extracts quantity_magnitude_unit, and then divides each into its single field to be input as a separate column value."
   ]
  },
  {
   "cell_type": "code",
   "execution_count": 55,
   "metadata": {},
   "outputs": [],
   "source": [
    "def extract_quantity_from_product_name(\n",
    "    product_name: str,\n",
    "    category_name: str\n",
    ") -> Tuple[int, Union[float, None], Union[str, None]]:\n",
    "    \"\"\"\n",
    "    Extracts quantity, magnitude, and unit from the product name \n",
    "    based on the specified category.\n",
    "\n",
    "    Parameters:\n",
    "    ----------\n",
    "    product_name : str\n",
    "        The name of the product, which may contain quantity information.\n",
    "    category_name : str\n",
    "        The category of the product to select appropriate patterns.\n",
    "\n",
    "    Returns:\n",
    "    -------\n",
    "    Tuple[int, Union[float, None], Union[str, None]]\n",
    "        - Quantity: Number of units in the product (default is 1 if not found).\n",
    "        - Magnitude: Calculated magnitude converted to standard unit.\n",
    "        - Units: Standardized unit of measure (e.g., 'g', 'l') or None if unavailable.\n",
    "    \"\"\"\n",
    "\n",
    "    patterns = {\n",
    "        \"aceite-de-oliva\": r\"(\\d+(?:[.,]\\d+)?\\s?(?:litros?|mililitros?|ml|cl|l))\",\n",
    "        \"aceite-de-girasol\": r\"(\\d+(?:[.,]\\d+)?\\s?(?:litros?|mililitros?|ml|cl|l))\",\n",
    "        \"leche\": r\"(\\d+(?:[.,]\\d+)?\\s?(?:litros?|mililitros?|cl|ml|l|kg|gr|g|cl)|\\d+\\s?(?:uds\\.?|botes|x)\\s?\\d+(?:[.,]\\d+)?\\s?(?:|cl|ml|l|g|gr|g))\"\n",
    "    }\n",
    "\n",
    "    conversions_abbr = {\n",
    "        \"gramos\": \"g\", \"kilogramos\": \"kg\", \"miligramo\": \"mg\",\n",
    "        \"miligramos\": \"mg\", \"litros\": \"l\", \"litro\": \"l\",\n",
    "        \"mililitro\": \"ml\", \"mililitros\": \"ml\",\n",
    "        \"centilitro\": \"cl\", \"centilitros\": \"cl\"\n",
    "    }\n",
    "    conversions_magnitude = {'g': 1, 'kg': 1000, 'mg': 0.001, 'l': 1, 'ml': 0.001, 'cl': 0.01}\n",
    "    conversions_unit = {'g': 'g', 'kg': 'g', 'mg': 'g', 'l': 'l', 'ml': 'l', 'cl': 'l'}\n",
    "\n",
    "        # extract the quantity_magnitude_unit and quantity value\n",
    "    try:\n",
    "        quantity_magnitude_unit = re.findall(patterns[category_name], product_name.lower())[0]\n",
    "        quantity = int(re.findall(r\"(\\d+)\\s?x\", quantity_magnitude_unit)[0])\n",
    "    except:\n",
    "        quantity = 1\n",
    "\n",
    "    try:\n",
    "        #find units and standardize to abbreviations\n",
    "        units = re.findall(r\"\\d\\s?(\\w{1,2})$\", quantity_magnitude_unit)[0]\n",
    "        units = conversions_abbr.get(units, units)\n",
    "    except:\n",
    "        units = np.nan\n",
    "\n",
    "    try:\n",
    "        # get magnitude value\n",
    "        magnitude = re.findall(r\"(?:\\d\\s?x\\s?)?(\\d?\\.?\\d+)\\s?\\w{1,2}?\", quantity_magnitude_unit.replace(\",\", \".\"))[0]\n",
    "    except:\n",
    "        magnitude = 1\n",
    "\n",
    "    # convert to same units\n",
    "    magnitude = float(magnitude) * conversions_magnitude.get(units, np.nan)\n",
    "    units = conversions_unit.get(units, np.nan)\n",
    "\n",
    "    return quantity, magnitude, units\n"
   ]
  },
  {
   "cell_type": "markdown",
   "metadata": {},
   "source": [
    "## 2.3 Extract brand names from product name"
   ]
  },
  {
   "cell_type": "markdown",
   "metadata": {},
   "source": [
    "Extracting the brand names from the products names is no easy task. A first iteration through regular expressions was approached, but the inconsistent placement and formatting of these brands made it impossible.\n",
    "\n",
    "Rather, the taken approach has been the approximation of creating a list from the list names through AI, and reiterating it, adding through exploration of the results the brand names that had not been not captured."
   ]
  },
  {
   "cell_type": "code",
   "execution_count": null,
   "metadata": {},
   "outputs": [],
   "source": [
    "# IF YOU WANT TO SEE RESULTS FROM THIS CELL, UNCOMMENT\n",
    "# for x in products[(products[\"category\"]==\"aceite_de_girasol\")][\"product_name\"]:\n",
    "#     print(x)"
   ]
  },
  {
   "cell_type": "markdown",
   "metadata": {},
   "source": [
    "The function to extract brand names is stored in `src/support/data_transformation_support.py`, but it is shown here for clarity:\n",
    "\n"
   ]
  },
  {
   "cell_type": "code",
   "execution_count": 65,
   "metadata": {},
   "outputs": [],
   "source": [
    "def extract_brand(product_name: str) -> Union[str, float]:\n",
    "    \"\"\"\n",
    "    Extracts and returns the brand from the product name, applying \n",
    "    any necessary normalization for known variations.\n",
    "\n",
    "    Parameters:\n",
    "    ----------\n",
    "    product_name : str\n",
    "        The name of the product to identify the brand.\n",
    "\n",
    "    Returns:\n",
    "    -------\n",
    "    Union[str, float]\n",
    "        The normalized brand name if recognized, or NaN if no brand is found.\n",
    "    \"\"\"\n",
    "\n",
    "    normalizations = {\n",
    "        \"k arginano\": \"karlos arguinano\",\n",
    "        \"k. arguinano\": \"karlos arguinano\",\n",
    "        \"karlos arguinano\": \"karlos arguinano\",\n",
    "        \"carbonel\": \"carbonell\",\n",
    "        \"el molino d gines\": \"el molino de gines\",\n",
    "        \"la española\": \"la espanola\",\n",
    "        \"oleo cazorla\": \"oleocazorla\",\n",
    "        \"coop\": \"dcoop\",\n",
    "        \"arrolan\": \"arrolan\",\n",
    "        \"oleaestepa\": \"oleoestepa\",\n",
    "        \"bailén\": \"oro bailen\"\n",
    "    }\n",
    "\n",
    "    brands = [\n",
    "        'natursoy', 'l.r.', 'nunez de prado', 'laban', 'ram', 'hojiblanca', 'oleodiel', 'dia', \"l'estornell\", \n",
    "        'president', 'la masia', 'la laguna', 'aromas del sur', 'carbonel', 'feiraco', 'carrefour', 'kaiku', \n",
    "        'suroliva', 'ferrarini', 'el buen pastor', 'de nuestra tierra', 'aceites de ardales', 'priegola', 'montbelle', \n",
    "        'alhema de queiles', 'ecran sunnique', 'almaoliva', 'amarga y pica', 'capricho andaluz', 'carapelli', \n",
    "        'ondosol', 'tierra de sabor', 'verde segura', 'eroski', 'larsa', 'ideal', 'jacoliva', 'go vegg', 'lanisol', \n",
    "        'saqura', 'saha', 'oliva verde', 'merula', 'oro', 'arrolan', 'la boella', 'reales almazaras de alcaniz', \n",
    "        'carbonell', 'marques de grinon', 'finca penamoucho', 'la almazara de canjayar', 'elizondo', 'bomilk', \n",
    "        'mueloliva', 'hacienda el palo', 'fontasol', 'euskal herria', 'oro bailen', 'jaencoop', 'cantero de letur', \n",
    "        'miro', 'flor de arana', 'covap', 'cexasol', 'babaria', 'parqueoliva', 'gaza', 'pago baldios san carlos', \n",
    "        'lacturale', 'mar de olivos', 'agus', 'lauki', 'palacio de los olivos', 'casas de hualdo', 'madriz', \n",
    "        'don arroniz', 'oleoestepa', 'dcoop', 'leyma natura', 'borges', 'alcampo', 'giralda', 'duc', 'coosur', \n",
    "        'nekeas', 'santa teresa', 'ucasol', 'dominus', 'lar', 'abril', 'beyena', 'romanico', 'ester sole', 'koipe', \n",
    "        'capicua', 'lletera', 'puleva', 'babybio', 'retama', 'granja noe', 'nestle', 'santiveri', 'valroble', \n",
    "        'mustela', 'la yerbera', 'clesa', 'campomar nature', 'oleocazorla', 'ozolife', 'urzante', 'sveltesse', \n",
    "        'casa juncal', 'olilan', 'k arginano', 'hacendado', 'olivar de segura', 'flora', 'el corte ingles', \n",
    "        'picualia', 'la colmenarena', 'unicla', 'guillen', 'celta', 'altamira', 'coosol', 'arboleda', 'ybarra', \n",
    "        'conde de benalua', 'saeta', 'maestros de hojiblanca', 'el molino d gines', 'iznaoliva', 'maeva', 'denenes', \n",
    "        'lactebal', 'bizkaia esnea', 'la organic cuisine', 'aljibes', 'k. arguinano', 'el lagar del soto', 'ecomil', \n",
    "        'fruto del sur', 'olivar del sur', 'mil olivas', 'villacorona', 'valdezarza', 'oleum', 'pascual', \n",
    "        'karlos arguinano', 'tresces', 'fuenroble', 'oleo cazorla', 'ato', 'cambil', 'lilibet', 'ondoliva', \n",
    "        'changlot real', 'somontano', 'nectar of bio', 'molino de olivas de bolea', 'germanor', 'cazorliva', \n",
    "        'venta del baron', 'elosol', 'la redonda', 'olibeas', 'abaco', 'nivea', 'letona', 'santa gadea', 'monegros', \n",
    "        'asturiana', 'rio', 'llet nostra', 'danone', 'la espanola', 'castillo de canena', 'valles unidos', 'unio', \n",
    "        'oleaurum', 'senorio de segura', 'ultzama', 'el castillo'\n",
    "    ]\n",
    "\n",
    "    brands = sorted(brands, key=len, reverse=True)\n",
    "\n",
    "    for brand in brands:\n",
    "        if brand in product_name:\n",
    "            return normalizations.get(brand, brand)\n",
    "    else:\n",
    "        return np.nan\n"
   ]
  },
  {
   "cell_type": "markdown",
   "metadata": {},
   "source": [
    "Applying the function to the tests df and inspecting for an example brand 'alcampo':"
   ]
  },
  {
   "cell_type": "code",
   "execution_count": 66,
   "metadata": {},
   "outputs": [],
   "source": [
    "products[\"brands\"] = products[\"product_name\"].apply(lambda product_name: extract_brand(unidecode(product_name.lower())))\n",
    "products[products[\"brands\"] == \"alcampo\"][:5]"
   ]
  },
  {
   "cell_type": "markdown",
   "metadata": {},
   "source": [
    "Let's count how many products still did not have their brand captured. As it can be observed, those products are not worth capturing their brands, as they are not proper olive or sunflower oil, or milk products."
   ]
  },
  {
   "cell_type": "code",
   "execution_count": 70,
   "metadata": {},
   "outputs": [
    {
     "name": "stdout",
     "output_type": "stream",
     "text": [
      "There are 36 products without brand\n",
      "\n",
      "\n"
     ]
    }
   ],
   "source": [
    "product_names_filtered = products[(products[\"brands\"].isna())]\n",
    "\n",
    "print(f\"There are {product_names_filtered['brands'].isna().sum()} products without brand\\n\\n\")\n",
    "\n",
    "## IF YOU WANT TO SEE THE OUTPUT, UNCOMMENT\n",
    "# for product_name in product_names_filtered[\"product_name\"]:\n",
    "#     print(product_name)"
   ]
  },
  {
   "cell_type": "markdown",
   "metadata": {},
   "source": [
    "## 2.4 Extract subcategories"
   ]
  },
  {
   "cell_type": "markdown",
   "metadata": {},
   "source": [
    "Finally, extract subcategories. Not all milk products are equal, neither are all olive oil products. Therefore, to make filtering easier during the analysis phase, and to have this information more ingestible at database level, it is worth extracting them.\n",
    "\n",
    "The process followed is quite straight-forward, albeit not perfect, and mirrors the approach taken with the brand names; if a keyword is found inside the product_name, it is assigned a subcategory and/or subcategory distinction.\n",
    "\n",
    "This functions is written here, although it can be found at `src/support/data_tranformation_support.py` it is outlined here as it was built iteratively and is clear to define the subcategory assignment process."
   ]
  },
  {
   "cell_type": "code",
   "execution_count": 71,
   "metadata": {},
   "outputs": [],
   "source": [
    "def extract_distinction_eco(\n",
    "    product_name: str,\n",
    "    category: str\n",
    ") -> Tuple[Union[str, float], int]:\n",
    "    \"\"\"\n",
    "    Extracts the distinction and eco-friendly status of a product based on \n",
    "    the product name and category.\n",
    "\n",
    "    Parameters:\n",
    "    ----------\n",
    "    product_name : str\n",
    "        The name of the product.\n",
    "    category : str\n",
    "        The category of the product to determine distinctions.\n",
    "\n",
    "    Returns:\n",
    "    -------\n",
    "    Tuple[Union[str, float], int]\n",
    "        - distinction: A string representing specific distinctions \n",
    "          (e.g., 'semidesnatada', 'desnatada sin lactosa') or NaN if none.\n",
    "        - eco: An integer indicating eco-friendly status (1 for eco, 0 otherwise).\n",
    "    \"\"\"\n",
    "    distinction = np.nan\n",
    "\n",
    "    if category == \"leche\":\n",
    "        if \"semidesnatada\" in product_name:\n",
    "            distinction = \"semidesnatada\"\n",
    "        elif \"desnatada\" in product_name:\n",
    "            distinction = \"desnatada\"\n",
    "        elif \"entera\" in product_name:\n",
    "            distinction = \"entera\"\n",
    "\n",
    "        if not pd.isna(distinction) and \"lactosa\" in product_name:\n",
    "            distinction += \" sin lactosa\"\n",
    "        if not pd.isna(distinction) and \"calcio\" in product_name:\n",
    "            distinction += \" calcio\"\n",
    "        if not pd.isna(distinction) and \"proteinas\" in product_name:\n",
    "            distinction += \" proteinas\"\n",
    "\n",
    "    if \" eco \" in product_name or \"ecologic\" in product_name:\n",
    "        eco = 1\n",
    "    else:\n",
    "        eco = 0\n",
    "\n",
    "    return distinction, eco\n",
    "\n",
    "def extract_subcategory(\n",
    "    product_name: str,\n",
    "    category: str\n",
    ") -> Union[str, float]:\n",
    "    \"\"\"\n",
    "    Determines the subcategory of a product based on its name, category, \n",
    "    and distinction.\n",
    "\n",
    "    Parameters:\n",
    "    ----------\n",
    "    product_name : str\n",
    "        The name of the product.\n",
    "    category : str\n",
    "        The product category to narrow down subcategory choices.\n",
    "    distinction : str\n",
    "        Any specific distinctions of the product (e.g., 'desnatada').\n",
    "\n",
    "    Returns:\n",
    "    -------\n",
    "    Union[str, float]\n",
    "        The subcategory of the product, or NaN if not applicable.\n",
    "    \"\"\"\n",
    "\n",
    "    if category == \"aceite_de_girasol\":\n",
    "        if \"freir\" in product_name:\n",
    "            subcategory = \"freir\"\n",
    "        else:\n",
    "            subcategory = \"normal\"\n",
    "\n",
    "    elif category == \"aceite_de_oliva\" and \"en aceite\" not in product_name and \"con aceite\" not in product_name:\n",
    "        if \"virgen extra\" in product_name:\n",
    "            subcategory = \"virgen extra\"\n",
    "        elif \"virgen\" in product_name:\n",
    "            subcategory = \"virgen\"\n",
    "        elif \"intenso\" in product_name:\n",
    "            subcategory = \"intenso\"\n",
    "        else:\n",
    "            subcategory = \"suave\"\n",
    "\n",
    "    elif category == \"leche\":\n",
    "        if \"cabra\" in product_name:\n",
    "            subcategory = \"leche cabra\"\n",
    "        elif \"vaca\" in product_name:\n",
    "            subcategory = \"leche vaca\"\n",
    "        elif \"condensada\" in product_name:\n",
    "            subcategory = \"leche condensada\"\n",
    "        elif \"leche\" in product_name:\n",
    "            subcategory = \"leche vaca\"\n",
    "        else: \n",
    "            subcategory = np.nan\n",
    "\n",
    "    else:\n",
    "        subcategory = np.nan\n",
    "\n",
    "    return subcategory\n"
   ]
  },
  {
   "cell_type": "markdown",
   "metadata": {},
   "source": [
    "The above 2 functions do the hard work, the function below unifies it:"
   ]
  },
  {
   "cell_type": "code",
   "execution_count": 77,
   "metadata": {},
   "outputs": [],
   "source": [
    "def get_subcategory_distinction(\n",
    "    product_name: str,\n",
    "    category: str\n",
    ") -> Tuple[Union[str, float], Union[str, float], int]:\n",
    "    \"\"\"\n",
    "    Determines the subcategory, distinction, and eco-friendly status \n",
    "    of a product based on its name and category.\n",
    "\n",
    "    Parameters:\n",
    "    ----------\n",
    "    product_name : str\n",
    "        The name of the product.\n",
    "    category : str\n",
    "        The category of the product.\n",
    "\n",
    "    Returns:\n",
    "    -------\n",
    "    Tuple[Union[str, float], Union[str, float], int]\n",
    "        - subcategory: A string representing the subcategory of the product, or NaN if not applicable.\n",
    "        - distinction: Specific distinction within the category (e.g., 'desnatada'), or NaN if not found.\n",
    "        - eco: Integer indicating eco-friendly status (1 for eco, 0 otherwise).\n",
    "    \"\"\"\n",
    "    distinction, eco = extract_distinction_eco(product_name, category)\n",
    "    subcategory = extract_subcategory(product_name, category, distinction)\n",
    "\n",
    "    return subcategory, distinction, eco\n"
   ]
  },
  {
   "cell_type": "markdown",
   "metadata": {},
   "source": [
    "Applying it to the test products df:"
   ]
  },
  {
   "cell_type": "code",
   "execution_count": 78,
   "metadata": {},
   "outputs": [],
   "source": [
    "products[[\"subcategory\",\"distinction\",\"eco\"]] = products[[\"product_name\", \"category\"]].apply(\n",
    "    lambda row: get_subcategory_distinction(unidecode(row[\"product_name\"].lower()), row[\"category\"]),\n",
    "    axis=1,\n",
    "    result_type=\"expand\"\n",
    ")"
   ]
  },
  {
   "cell_type": "markdown",
   "metadata": {},
   "source": [
    "It yields the following results:"
   ]
  },
  {
   "cell_type": "code",
   "execution_count": 82,
   "metadata": {},
   "outputs": [
    {
     "name": "stdout",
     "output_type": "stream",
     "text": [
      "There are 69 out of 1629 without subcategory assignment.\n"
     ]
    },
    {
     "data": {
      "text/html": [
       "<div>\n",
       "<style scoped>\n",
       "    .dataframe tbody tr th:only-of-type {\n",
       "        vertical-align: middle;\n",
       "    }\n",
       "\n",
       "    .dataframe tbody tr th {\n",
       "        vertical-align: top;\n",
       "    }\n",
       "\n",
       "    .dataframe thead th {\n",
       "        text-align: right;\n",
       "    }\n",
       "</style>\n",
       "<table border=\"1\" class=\"dataframe\">\n",
       "  <thead>\n",
       "    <tr style=\"text-align: right;\">\n",
       "      <th></th>\n",
       "      <th>product_name</th>\n",
       "      <th>category</th>\n",
       "      <th>supermarket</th>\n",
       "      <th>product_name2</th>\n",
       "      <th>brands</th>\n",
       "      <th>subcategory</th>\n",
       "      <th>distinction</th>\n",
       "      <th>eco</th>\n",
       "    </tr>\n",
       "  </thead>\n",
       "  <tbody>\n",
       "    <tr>\n",
       "      <th>0</th>\n",
       "      <td>Aceite De Girasol Refinado 0,2º Hacendado 1 L.</td>\n",
       "      <td>aceite_de_girasol</td>\n",
       "      <td>mercadona</td>\n",
       "      <td>Aceite De Girasol Refinado 0,2º Hacendado 1 L.</td>\n",
       "      <td>hacendado</td>\n",
       "      <td>normal</td>\n",
       "      <td>NaN</td>\n",
       "      <td>0.0</td>\n",
       "    </tr>\n",
       "    <tr>\n",
       "      <th>1</th>\n",
       "      <td>Aceite De Girasol Refinado 0,2º Hacendado 5 L.</td>\n",
       "      <td>aceite_de_girasol</td>\n",
       "      <td>mercadona</td>\n",
       "      <td>Aceite De Girasol Refinado 0,2º Hacendado 5 L.</td>\n",
       "      <td>hacendado</td>\n",
       "      <td>normal</td>\n",
       "      <td>NaN</td>\n",
       "      <td>0.0</td>\n",
       "    </tr>\n",
       "    <tr>\n",
       "      <th>2</th>\n",
       "      <td>Aceite De Oliva 0,4º Hacendado 1 L.</td>\n",
       "      <td>aceite_de_oliva</td>\n",
       "      <td>mercadona</td>\n",
       "      <td>Aceite De Oliva 0,4º Hacendado 1 L.</td>\n",
       "      <td>hacendado</td>\n",
       "      <td>suave</td>\n",
       "      <td>NaN</td>\n",
       "      <td>0.0</td>\n",
       "    </tr>\n",
       "    <tr>\n",
       "      <th>3</th>\n",
       "      <td>Aceite De Oliva 1º Hacendado 1 L.</td>\n",
       "      <td>aceite_de_oliva</td>\n",
       "      <td>mercadona</td>\n",
       "      <td>Aceite De Oliva 1º Hacendado 1 L.</td>\n",
       "      <td>hacendado</td>\n",
       "      <td>suave</td>\n",
       "      <td>NaN</td>\n",
       "      <td>0.0</td>\n",
       "    </tr>\n",
       "    <tr>\n",
       "      <th>4</th>\n",
       "      <td>Aceite De Oliva Intenso Hacendado 3 L.</td>\n",
       "      <td>aceite_de_oliva</td>\n",
       "      <td>mercadona</td>\n",
       "      <td>Aceite De Oliva Intenso Hacendado 3 L.</td>\n",
       "      <td>hacendado</td>\n",
       "      <td>intenso</td>\n",
       "      <td>NaN</td>\n",
       "      <td>0.0</td>\n",
       "    </tr>\n",
       "  </tbody>\n",
       "</table>\n",
       "</div>"
      ],
      "text/plain": [
       "                                     product_name           category  \\\n",
       "0  Aceite De Girasol Refinado 0,2º Hacendado 1 L.  aceite_de_girasol   \n",
       "1  Aceite De Girasol Refinado 0,2º Hacendado 5 L.  aceite_de_girasol   \n",
       "2             Aceite De Oliva 0,4º Hacendado 1 L.    aceite_de_oliva   \n",
       "3               Aceite De Oliva 1º Hacendado 1 L.    aceite_de_oliva   \n",
       "4          Aceite De Oliva Intenso Hacendado 3 L.    aceite_de_oliva   \n",
       "\n",
       "  supermarket                                   product_name2     brands  \\\n",
       "0   mercadona  Aceite De Girasol Refinado 0,2º Hacendado 1 L.  hacendado   \n",
       "1   mercadona  Aceite De Girasol Refinado 0,2º Hacendado 5 L.  hacendado   \n",
       "2   mercadona             Aceite De Oliva 0,4º Hacendado 1 L.  hacendado   \n",
       "3   mercadona               Aceite De Oliva 1º Hacendado 1 L.  hacendado   \n",
       "4   mercadona          Aceite De Oliva Intenso Hacendado 3 L.  hacendado   \n",
       "\n",
       "  subcategory distinction  eco  \n",
       "0      normal         NaN  0.0  \n",
       "1      normal         NaN  0.0  \n",
       "2       suave         NaN  0.0  \n",
       "3       suave         NaN  0.0  \n",
       "4     intenso         NaN  0.0  "
      ]
     },
     "execution_count": 82,
     "metadata": {},
     "output_type": "execute_result"
    }
   ],
   "source": [
    "print(f\"There are {products[products['subcategory'].isna()].shape[0]} out of {products.shape[0]} without subcategory assignment.\")\n",
    "\n",
    "products.head()"
   ]
  },
  {
   "cell_type": "markdown",
   "metadata": {},
   "source": [
    "# 3. Conclusion of this notebook"
   ]
  },
  {
   "cell_type": "markdown",
   "metadata": {},
   "source": [
    "The integrated functions hereby outlined can be found in the script `src/support/data_transformation_support.py`. These functions are used inside an ETL script, along with the updated functions from the extraction and load phases. \n",
    "\n",
    "If you wish to consult the data load process, please refer to `notebooks/3_data_load.ipynb`."
   ]
  }
 ],
 "metadata": {
  "kernelspec": {
   "display_name": "my-supermercados_analisis",
   "language": "python",
   "name": "my-supermercados_analisis"
  },
  "language_info": {
   "codemirror_mode": {
    "name": "ipython",
    "version": 3
   },
   "file_extension": ".py",
   "mimetype": "text/x-python",
   "name": "python",
   "nbconvert_exporter": "python",
   "pygments_lexer": "ipython3",
   "version": "3.11.4"
  }
 },
 "nbformat": 4,
 "nbformat_minor": 2
}
