{
 "cells": [
  {
   "cell_type": "markdown",
   "metadata": {},
   "source": [
    "### 0. Imports"
   ]
  },
  {
   "cell_type": "code",
   "execution_count": 1,
   "metadata": {},
   "outputs": [],
   "source": [
    "# data manipulation\n",
    "import pandas as pd\n",
    "import numpy as np\n",
    "\n",
    "# data visualization\n",
    "import matplotlib.pyplot as plt\n",
    "import seaborn as sns\n",
    "\n",
    "\n",
    "# append parent folder to path\n",
    "import sys \n",
    "sys.path.append(\"..\")\n",
    "\n",
    "# import database connection support functions\n",
    "from src.support.data_load_support import connect_to_database, connect_and_query, alter_update_query\n",
    "from src.support.data_visualization_support import plot_bar_labels\n",
    "\n",
    "# import env variables\n",
    "import os\n",
    "from dotenv import load_dotenv\n",
    "load_dotenv()\n",
    "database_credentials = {\n",
    "    \"username\": os.getenv(\"DB_USERNAME\"),\n",
    "    \"password\": os.getenv(\"DB_PASSWORD\")\n",
    "}\n"
   ]
  },
  {
   "cell_type": "markdown",
   "metadata": {},
   "source": [
    "# 1. Introduction to this notebook"
   ]
  },
  {
   "cell_type": "markdown",
   "metadata": {},
   "source": [
    "# 2. Analysis"
   ]
  },
  {
   "cell_type": "markdown",
   "metadata": {},
   "source": [
    "- Análisis de Datos: Debes realizar los siguientes análisis utilizando Python y Pandas:\n",
    "\n",
    "    - Comparación de Precios entre Supermercados: Determinar qué supermercados ofrecen los precios más bajos y cuáles son más caros para cada producto."
   ]
  },
  {
   "cell_type": "markdown",
   "metadata": {},
   "source": [
    "Add latest price column to supermarkets_products table"
   ]
  },
  {
   "cell_type": "code",
   "execution_count": null,
   "metadata": {},
   "outputs": [],
   "source": [
    "# create new column latest price in supermarkets_products\n",
    "alter_query = \"\"\"\n",
    "ALTER TABLE supermarkets_products \n",
    "ADD COLUMN latest_price NUMERIC;\n",
    "\"\"\"\n",
    "\n",
    "alter_update_query(\"comparativa_supermercados\",database_credentials,alter_query)\n",
    "\n",
    "# fill in new column with latest price values\n",
    "update_query = \"\"\"\n",
    "WITH most_recent_date AS (\n",
    "\t\t\tSELECT supermarket_product_id , price_amount,date, MAX(date) OVER(PARTITION BY supermarket_product_id) AS most_recent\n",
    "\t\t\tFROM prices p),\n",
    "\n",
    "latest_price AS (SELECT supermarket_product_id, price_amount, date\n",
    "FROM most_recent_date\n",
    "WHERE date = most_recent)\n",
    "\n",
    "UPDATE supermarkets_products s\n",
    "SET latest_price = l.price_amount\n",
    "FROM latest_price l\n",
    "WHERE l.supermarket_product_id = s.supermarket_product_id;\n",
    "\"\"\"\n",
    "\n",
    "alter_update_query(\"comparativa_supermercados\",database_credentials, update_query)"
   ]
  },
  {
   "cell_type": "markdown",
   "metadata": {},
   "source": [
    "What are the main category price comparison between products?"
   ]
  },
  {
   "cell_type": "code",
   "execution_count": null,
   "metadata": {},
   "outputs": [],
   "source": [
    "query = \"\"\"\n",
    "SELECT s2.supermarket_name, p.units, AVG(sp.latest_price /(p.quantity * p.volume_weight)) AS price_per_liter, COUNT(*) n_products\n",
    "FROM products p \n",
    "INNER JOIN subcategories s \n",
    "\tON p.subcategory_id =s.subcategory_id \n",
    "INNER JOIN categories c \n",
    "\tON s.category_id = c.category_id \n",
    "INNER JOIN supermarkets_products sp \n",
    "\tON p.product_id = sp.product_id\n",
    "INNER JOIN supermarkets s2\n",
    "\tON sp.supermarket_id = s2.supermarket_id \n",
    "WHERE s.subcategory_name != 'otras' -- helps distinguish not true category products, like milk hair masks o tuna in olive oil  \n",
    "AND units IS NOT NULL \n",
    "AND units != 'g'\n",
    "AND s.subcategory_name NOT LIKE '%otras%'\n",
    "GROUP BY s2.supermarket_name,  p.units\n",
    "ORDER BY price_per_liter;\n",
    "\"\"\"\n",
    "\n",
    "supermarket_average = connect_and_query(\"comparativa_supermercados\",database_credentials, query, columns=\"query\")\n",
    "supermarket_average"
   ]
  },
  {
   "cell_type": "markdown",
   "metadata": {},
   "source": [
    "Here we can see that, in general, mercadona has a less expensive price per liter. That can be greatly influenced by the fact that it is the only supermarket that sells allmost exclusively its one white label brand."
   ]
  },
  {
   "cell_type": "code",
   "execution_count": null,
   "metadata": {},
   "outputs": [],
   "source": [
    "query = \"\"\"\n",
    "SELECT s2.supermarket_name, p.units, sp.latest_price / (p.quantity * p.volume_weight) AS price_per_liter\n",
    "FROM products p \n",
    "INNER JOIN subcategories s \n",
    "\tON p.subcategory_id =s.subcategory_id \n",
    "INNER JOIN categories c \n",
    "\tON s.category_id = c.category_id \n",
    "INNER JOIN supermarkets_products sp \n",
    "\tON p.product_id = sp.product_id\n",
    "INNER JOIN supermarkets s2\n",
    "\tON sp.supermarket_id = s2.supermarket_id \n",
    "WHERE s.subcategory_name != 'otras' -- helps distinguish not true category products, like milk hair masks o tuna in olive oil  \n",
    "AND units IS NOT NULL \n",
    "AND units != 'g'\n",
    "AND s.subcategory_name NOT LIKE '%otras%'\n",
    "ORDER BY price_per_liter;\n",
    "\"\"\"\n",
    "\n",
    "price_per_category_plot_data = connect_and_query(\"comparativa_supermercados\",database_credentials, query, columns=\"query\")\n",
    "price_per_category_plot_data"
   ]
  },
  {
   "cell_type": "code",
   "execution_count": null,
   "metadata": {},
   "outputs": [],
   "source": [
    "query1 = \"\"\"\n",
    "SELECT s2.supermarket_name, sp.latest_price / (p.quantity * p.volume_weight) AS price_per_liter\n",
    "FROM products p \n",
    "INNER JOIN subcategories s \n",
    "\tON p.subcategory_id =s.subcategory_id \n",
    "INNER JOIN categories c \n",
    "\tON s.category_id = c.category_id \n",
    "INNER JOIN supermarkets_products sp \n",
    "\tON p.product_id = sp.product_id\n",
    "INNER JOIN supermarkets s2\n",
    "\tON sp.supermarket_id = s2.supermarket_id \n",
    "WHERE s.subcategory_name != 'otras' -- helps distinguish not true category products, like milk hair masks o tuna in olive oil  \n",
    "AND units IS NOT NULL \n",
    "AND units != 'g'\n",
    "AND s.subcategory_name NOT LIKE '%otras%'\n",
    "ORDER BY price_per_liter;\n",
    "\"\"\"\n",
    "\n",
    "\n",
    "price_per_category_plot_data = connect_and_query(\"comparativa_supermercados\",database_credentials, query1, columns=\"query\")\n",
    "\n",
    "query2 = \"\"\"\n",
    "SELECT s2.supermarket_name, sp.latest_price / (p.quantity * p.volume_weight) AS price_per_liter\n",
    "FROM products p \n",
    "INNER JOIN subcategories s \n",
    "\tON p.subcategory_id =s.subcategory_id \n",
    "INNER JOIN categories c \n",
    "\tON s.category_id = c.category_id \n",
    "INNER JOIN supermarkets_products sp \n",
    "\tON p.product_id = sp.product_id\n",
    "INNER JOIN supermarkets s2\n",
    "\tON sp.supermarket_id = s2.supermarket_id \n",
    "INNER JOIN brands b\n",
    "\tON b.brand_id = p.brand_id \n",
    "WHERE s.subcategory_name != 'otras' -- helps distinguish not true category products, like milk hair masks o tuna in olive oil  \n",
    "AND units IS NOT NULL \n",
    "AND units != 'g'\n",
    "AND s.subcategory_name NOT LIKE '%otras%'\n",
    "AND b.brand_name IN ('alcampo','eroski','hacendado','carrefour','dia','hipercor','el corte ingles')\n",
    "ORDER BY price_per_liter;\n",
    "\"\"\"\n",
    "\n",
    "price_per_category_white_label_plot_data = connect_and_query(\"comparativa_supermercados\",database_credentials, query2, columns=\"query\")\n",
    "\n",
    "fig, (ax1,ax2) = plt.subplots(2, 1, figsize=(20, 14)) \n",
    "\n",
    "plt.suptitle(\"Average price per liter of product per supermarket.\", fontsize=20)\n",
    "\n",
    "##First plot\n",
    "sns.barplot(data=price_per_category_plot_data,\n",
    "             x=\"supermarket_name\",\n",
    "             y=\"price_per_liter\",\n",
    "             ax=ax1,\n",
    "             order=supermarket_average[\"supermarket_name\"],\n",
    "             estimator=\"mean\")\n",
    "\n",
    "# adding data labels\n",
    "plot_bar_labels(ax1)\n",
    "\n",
    "\n",
    "ax1.set_ylabel(\"Price per liter (€)\", fontsize=14)\n",
    "ax1.set_xlabel(\"Supermarket\")\n",
    "\n",
    "\n",
    "## second plot\n",
    "sns.barplot(data=price_per_category_white_label_plot_data,\n",
    "             x=\"supermarket_name\",\n",
    "             y=\"price_per_liter\",\n",
    "             ax=ax2,\n",
    "             order=supermarket_average[\"supermarket_name\"],\n",
    "             estimator=\"mean\")\n",
    "\n",
    "# adding data labels\n",
    "plot_bar_labels(ax2)\n",
    "\n",
    "\n",
    "ax1.set_ylabel(\"Price per liter (€)\", fontsize=14)\n",
    "ax1.set_xlabel(\"Supermarket\")\n",
    "\n",
    "plt.tight_layout()\n",
    "plt.show()"
   ]
  },
  {
   "cell_type": "markdown",
   "metadata": {},
   "source": [
    "\n",
    "    - Análisis de la Evolución de Precios: Estudiar cómo han cambiado los precios de los productos a lo largo del tiempo en distintos supermercados.\n",
    "\n",
    "    - Detección de Anomalías: Identificar subidas o bajadas de precios inusuales que podrían señalar prácticas abusivas o promociones.\n",
    "\n",
    "    - Análisis de la Dispersión de Precios: Evaluar la variabilidad de los precios de un mismo producto en diferentes supermercados.\n",
    "\n",
    "    - Comparación de Precios Promedio: Calcular y comparar los precios promedio de cada producto en diferentes supermercados.\n",
    "\n",
    "\n",
    "- Visualización de datos: Generar gráficos y visualizaciones que presenten de manera clara y comprensible los resultados del análisis."
   ]
  },
  {
   "cell_type": "markdown",
   "metadata": {},
   "source": []
  }
 ],
 "metadata": {
  "kernelspec": {
   "display_name": "my-supermercados_analisis",
   "language": "python",
   "name": "my-supermercados_analisis"
  },
  "language_info": {
   "codemirror_mode": {
    "name": "ipython",
    "version": 3
   },
   "file_extension": ".py",
   "mimetype": "text/x-python",
   "name": "python",
   "nbconvert_exporter": "python",
   "pygments_lexer": "ipython3",
   "version": "3.11.4"
  }
 },
 "nbformat": 4,
 "nbformat_minor": 2
}
